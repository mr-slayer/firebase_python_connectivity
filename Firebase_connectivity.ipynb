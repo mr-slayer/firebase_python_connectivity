{
 "cells": [
  {
   "cell_type": "code",
   "execution_count": 1,
   "id": "8f9108ef-8a32-4f53-b627-e1e04ed32f6c",
   "metadata": {},
   "outputs": [
    {
     "data": {
      "text/plain": [
       "<firebase_admin.App at 0x1c0a04f4c70>"
      ]
     },
     "execution_count": 1,
     "metadata": {},
     "output_type": "execute_result"
    }
   ],
   "source": [
    "import firebase_admin\n",
    "from firebase_admin import credentials\n",
    "from google.cloud import firestore\n",
    "\n",
    "\n",
    "cred = credentials.Certificate(\"firebase_cred.json\")\n",
    "firebase_admin.initialize_app(cred)\n"
   ]
  },
  {
   "cell_type": "code",
   "execution_count": null,
   "id": "c599b889-2370-41ba-a5ab-771ca27701bc",
   "metadata": {},
   "outputs": [],
   "source": [
    "db = firestore.Client(cred)\n",
    "\n",
    "# Define your data\n",
    "data = {\n",
    "    'name': 'John Doe',\n",
    "    'age': 30,\n",
    "    'city': 'New York',\n",
    "}\n",
    "\n",
    "# Specify the collection and document to store the data\n",
    "collection_name = 'users'\n",
    "document_id = 'user1'\n",
    "\n",
    "# Push data to Firestore\n",
    "db.collection(collection_name).document(document_id).set(data)\n"
   ]
  },
  {
   "cell_type": "code",
   "execution_count": 5,
   "id": "3f3060ff-d940-4b8c-83bb-e2a63d891c3b",
   "metadata": {},
   "outputs": [
    {
     "name": "stdout",
     "output_type": "stream",
     "text": [
      "Data pushed to Firestore: {'name': 'aakas shardul', 'age': 24, 'city': 'washington DC'}\n"
     ]
    }
   ],
   "source": [
    "from google.cloud import firestore\n",
    "from google.oauth2 import service_account\n",
    "\n",
    "# Path to your JSON key file\n",
    "key_path = 'firebase_cred.json'\n",
    "\n",
    "# Authenticate with Firestore using the JSON key file\n",
    "credentials = service_account.Credentials.from_service_account_file(key_path)\n",
    "db = firestore.Client(project=credentials.project_id, credentials=credentials)\n",
    "\n",
    "# Define your data\n",
    "data = {\n",
    "    'name': 'aakas shardul',\n",
    "    'age': 24,\n",
    "    'city': 'washington DC',\n",
    "}\n",
    "\n",
    "# Specify the collection and document to store the data\n",
    "collection_name = 'users'\n",
    "document_id = 'user2'\n",
    "\n",
    "# Push data to Firestore\n",
    "db.collection(collection_name).document(document_id).set(data)\n",
    "\n",
    "print(f'Data pushed to Firestore: {data}')\n"
   ]
  },
  {
   "cell_type": "code",
   "execution_count": 7,
   "id": "a349e538-c020-4e0f-b272-5bfb64bf3186",
   "metadata": {},
   "outputs": [
    {
     "name": "stdout",
     "output_type": "stream",
     "text": [
      "Document ID: user1, Data: {'age': 32, 'city': 'new york', 'name': 'nilesh '}\n",
      "Document ID: user2, Data: {'age': 24, 'city': 'washington DC', 'name': 'aakas shardul'}\n"
     ]
    }
   ],
   "source": [
    "collection_name = 'users'\n",
    "\n",
    "# Fetch all data from Firestore collection\n",
    "docs = db.collection(collection_name).stream()\n",
    "\n",
    "# Print the data\n",
    "for doc in docs:\n",
    "    print(f'Document ID: {doc.id}, Data: {doc.to_dict()}')"
   ]
  },
  {
   "cell_type": "code",
   "execution_count": null,
   "id": "fdeddeb9-4132-4c25-b2d3-5d268316386f",
   "metadata": {},
   "outputs": [],
   "source": []
  }
 ],
 "metadata": {
  "kernelspec": {
   "display_name": "Python 3 (ipykernel)",
   "language": "python",
   "name": "python3"
  },
  "language_info": {
   "codemirror_mode": {
    "name": "ipython",
    "version": 3
   },
   "file_extension": ".py",
   "mimetype": "text/x-python",
   "name": "python",
   "nbconvert_exporter": "python",
   "pygments_lexer": "ipython3",
   "version": "3.10.5"
  }
 },
 "nbformat": 4,
 "nbformat_minor": 5
}
